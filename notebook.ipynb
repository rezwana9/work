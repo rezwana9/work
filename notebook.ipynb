{
  "cells": [
    {
      "cell_type": "code",
      "execution_count": 2,
      "metadata": {
        "colab": {
          "base_uri": "https://localhost:8080/"
        },
        "id": "lQv7Nq8d4QSb",
        "outputId": "65756f45-845d-4352-fb70-e7a00477a003"
      },
      "outputs": [],
      "source": [
        "#!pip install langchain-community==0.2.15 langchain-chroma==0.1.3 langchain-text-splitters==0.2.2 langchain-huggingface==0.0.3 langchain-groq==0.1.9 unstructured==0.15.0 unstructured[pdf]==0.15.0 nltk==3.8.1"
      ]
    },
    {
      "cell_type": "code",
      "execution_count": null,
      "metadata": {
        "colab": {
          "base_uri": "https://localhost:8080/"
        },
        "id": "249fRGE44WjL",
        "outputId": "381ddded-90c1-4f5c-e6d1-e0e8e8510291"
      },
      "outputs": [
        {
          "name": "stderr",
          "output_type": "stream",
          "text": [
            "'apt-get' is not recognized as an internal or external command,\n",
            "operable program or batch file.\n",
            "'apt' is not recognized as an internal or external command,\n",
            "operable program or batch file.\n"
          ]
        }
      ],
      "source": [
        "#!apt-get install poppler-utils\n",
        "#!apt install tesseract-ocr"
      ]
    },
    {
      "cell_type": "code",
      "execution_count": 4,
      "metadata": {
        "id": "8y-llLlq4Wgv"
      },
      "outputs": [],
      "source": [
        "import os\n",
        "\n",
        "from langchain_community.document_loaders import UnstructuredPDFLoader, DirectoryLoader\n",
        "from langchain_text_splitters import CharacterTextSplitter\n",
        "from langchain_huggingface import HuggingFaceEmbeddings\n",
        "from langchain_chroma import Chroma\n",
        "from langchain_groq import ChatGroq\n",
        "from langchain.chains import RetrievalQA"
      ]
    },
    {
      "cell_type": "code",
      "execution_count": 5,
      "metadata": {
        "id": "KWzM_qcQ4WeE"
      },
      "outputs": [],
      "source": [
        "GROQ_API_KEY = \"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\""
      ]
    },
    {
      "cell_type": "code",
      "execution_count": 6,
      "metadata": {
        "id": "hsIroy9oB7vX"
      },
      "outputs": [],
      "source": [
        "os.environ[\"GROQ_API_KEY\"] = GROQ_API_KEY"
      ]
    },
    {
      "cell_type": "code",
      "execution_count": 7,
      "metadata": {
        "id": "t0jO46y5CPzX"
      },
      "outputs": [
        {
          "name": "stderr",
          "output_type": "stream",
          "text": [
            "c:\\Users\\mayur\\anaconda3\\envs\\RAG\\Lib\\site-packages\\tqdm\\auto.py:21: TqdmWarning: IProgress not found. Please update jupyter and ipywidgets. See https://ipywidgets.readthedocs.io/en/stable/user_install.html\n",
            "  from .autonotebook import tqdm as notebook_tqdm\n"
          ]
        }
      ],
      "source": [
        "loader = DirectoryLoader(\"data/\", glob=\"./*.pdf\", loader_cls=UnstructuredPDFLoader)\n",
        "documents = loader.load()"
      ]
    },
    {
      "cell_type": "code",
      "execution_count": 8,
      "metadata": {
        "colab": {
          "base_uri": "https://localhost:8080/"
        },
        "id": "nV9cemfXCisK",
        "outputId": "2e9a5ee8-5620-4a36-e5ca-e025e806165d"
      },
      "outputs": [],
      "source": [
        "text_splitter = CharacterTextSplitter(\n",
        "    chunk_size=2000,\n",
        "    chunk_overlap=500\n",
        ")\n",
        "\n",
        "text_chunks = text_splitter.split_documents(documents)"
      ]
    },
    {
      "cell_type": "code",
      "execution_count": 9,
      "metadata": {
        "id": "tUC3aAc0DGzG"
      },
      "outputs": [],
      "source": [
        "persist_directory = \"doc_db\""
      ]
    },
    {
      "cell_type": "code",
      "execution_count": 10,
      "metadata": {
        "colab": {
          "base_uri": "https://localhost:8080/"
        },
        "id": "WGldVUzcDM38",
        "outputId": "eda2aefb-5b3d-4568-ad3a-fc0c7d51066f"
      },
      "outputs": [],
      "source": [
        "embedding = HuggingFaceEmbeddings()"
      ]
    },
    {
      "cell_type": "code",
      "execution_count": 11,
      "metadata": {
        "id": "dfRGkPbYDUfP"
      },
      "outputs": [],
      "source": [
        "vectorstore = Chroma.from_documents(\n",
        "    documents=text_chunks,\n",
        "    embedding=embedding,\n",
        "    persist_directory=persist_directory\n",
        ")"
      ]
    },
    {
      "cell_type": "code",
      "execution_count": 12,
      "metadata": {
        "id": "yZ8cWYgvDn7W"
      },
      "outputs": [],
      "source": [
        "retriever = vectorstore.as_retriever()"
      ]
    },
    {
      "cell_type": "code",
      "execution_count": 13,
      "metadata": {
        "id": "ZFA8HA1GEDXM"
      },
      "outputs": [],
      "source": [
        "llm = ChatGroq(\n",
        "    model=\"llama-3.1-8b-instant\",\n",
        "    temperature=0\n",
        ")"
      ]
    },
    {
      "cell_type": "code",
      "execution_count": 14,
      "metadata": {
        "id": "sDUiW4a7Egkv"
      },
      "outputs": [],
      "source": [
        "qa_chain = RetrievalQA.from_chain_type(\n",
        "    llm=llm,\n",
        "    chain_type=\"stuff\",\n",
        "    retriever=retriever,\n",
        "    return_source_documents=True\n",
        ")"
      ]
    },
    {
      "cell_type": "code",
      "execution_count": 15,
      "metadata": {
        "id": "by3haRdRExV7"
      },
      "outputs": [],
      "source": [
        "query = \"What does the document say about DELINEATING THE CLINICAL SYNDROME?\"\n",
        "response = qa_chain.invoke({\"query\":query})"
      ]
    },
    {
      "cell_type": "code",
      "execution_count": 16,
      "metadata": {
        "colab": {
          "base_uri": "https://localhost:8080/"
        },
        "id": "77D9SRbuFHkj",
        "outputId": "5705cf5a-3acb-44cb-e47f-469b04a38407"
      },
      "outputs": [
        {
          "name": "stdout",
          "output_type": "stream",
          "text": [
            "{'query': 'What does the document say about DELINEATING THE CLINICAL SYNDROME?', 'result': \"I don't know.\", 'source_documents': [Document(metadata={'source': 'data\\\\godel_agent.pdf'}, page_content='6\\n\\n{’role’: ’historical context analyst’, ’return_keys’: [’\\n\\nhistorical_analysis’, ’answer’], ’output_requirement’: ’ historical_analysis’, ’precision_gain’:1},\\n\\n7\\n\\n]\\n\\n8\\n\\n9\\n\\n10\\n\\nall_responses = [] for category in categories:\\n\\n11\\n\\nresponse = agent.action_call_json_format_llm(\\n\\n12\\n\\n13\\n\\n14\\n\\n15\\n\\n16\\n\\n17\\n\\nmodel=’gpt-3.5-turbo’, messages=messages, temperature=0.5, num_of_response=5, role=category[’role’], return_dict_keys=category[’return_keys’], requirements=(\\n\\n18\\n\\n19\\n\\n20\\n\\n21\\n\\n’1. Explain the reasoning steps to get the answer.\\\\n’ ’2. Directly answer the question.\\\\n’ ’3. The explanation format must be outlined clearly\\n\\naccording to the role, such as reasoning, calculation , or historical analysis.\\\\n’\\n\\n22\\n\\n’4. The answer MUST be a concise string.\\\\n’\\n\\n23\\n\\n).strip(),\\n\\n24\\n\\n25\\n\\n) if isinstance(response, list):\\n\\n26\\n\\nall_responses.extend(response)\\n\\n16\\n\\n27\\n\\n28\\n\\n29\\n\\n30\\n\\n31\\n\\n32\\n\\n33\\n\\n34\\n\\n35\\n\\n36\\n\\n37\\n\\n38\\n\\n39\\n\\n40\\n\\n41\\n\\n42\\n\\n43\\n\\n44\\n\\n45\\n\\n46\\n\\n47\\n\\n48\\n\\n49\\n\\n50\\n\\n51\\n\\n52\\n\\n53\\n\\n54\\n\\n55\\n\\n56\\n\\n57\\n\\n58\\n\\n59\\n\\n60\\n\\n61\\n\\n62\\n\\n63\\n\\n64\\n\\n65\\n\\n66\\n\\nPreprint.\\n\\nelse:\\n\\nall_responses.append(response)\\n\\n# Reflective evaluation to find the most consistent reasoning and\\n\\nanswer pair\\n\\nfinal_response = {key: [] for key in [’reasoning’, ’calculation_steps\\n\\n’, ’historical_analysis’, ’answer’]}\\n\\nstep_counter = {key: 0 for key in [’reasoning’, ’calculation_steps’,\\n\\n’historical_analysis’]}\\n\\nanswers = [] # Collect answers for voting aggregate_weight = 1\\n\\nfor response in all_responses:\\n\\nif response and ’answer’ in response:\\n\\nanswers.append(response[’answer’]) if not final_response[’answer’]:\\n\\nfinal_response = {key: response.get(key, []) if\\n\\nisinstance(response.get(key, []), list) else [ response.get(key, [])] for key in final_response.keys ()}\\n\\naggregate_weight = 1 for cat in categories:\\n\\nif cat.get(’output_requirement’) in response.keys():\\n\\nstep_counter[cat[’output_requirement’]] +=\\n\\nstep_counter[cat[’output_requirement’]] + cat .get(’precision_gain’, 0) elif response[’answer’] == final_response[’answer’][0]:'), Document(metadata={'source': 'data\\\\godel_agent.pdf'}, page_content='Wenyi Wang. A formulation of recursive self-improvement and its possible efficiency, 2018. URL\\n\\nhttps://arxiv.org/abs/1805.06610.\\n\\nXingyao Wang, Boxuan Li, Yufan Song, Frank F. Xu, Xiangru Tang, Mingchen Zhuge, Jiayi Pan, Yueqi Song, Bowen Li, Jaskirat Singh, Hoang H. Tran, Fuqiang Li, Ren Ma, Mingzhang Zheng, Bill Qian, Yanjun Shao, Niklas Muennighoff, Yizhe Zhang, Binyuan Hui, Junyang Lin, Robert Brennan, Hao Peng, Heng Ji, and Graham Neubig. Opendevin: An open platform for ai software developers as generalist agents, 2024b. URL https://arxiv.org/abs/2407.16741.\\n\\nXuezhi Wang, Jason Wei, Dale Schuurmans, Quoc Le, Ed Chi, Sharan Narang, Aakanksha Chowdh- ery, and Denny Zhou. Self-consistency improves chain of thought reasoning in language models, 2023b. URL https://arxiv.org/abs/2203.11171.\\n\\nJason Wei, Xuezhi Wang, Dale Schuurmans, Maarten Bosma, Fei Xia, Ed Chi, Quoc V Le, Denny Zhou, et al. Chain-of-thought prompting elicits reasoning in large language models. Advances in neural information processing systems, 35:24824–24837, 2022.\\n\\nQingyun Wu, Gagan Bansal, Jieyu Zhang, Yiran Wu, Shaokun Zhang, Erkang Zhu, Beibin Li, Li Jiang, Xiaoyun Zhang, and Chi Wang. Autogen: Enabling next-gen llm applications via multi- agent conversation framework. arXiv preprint arXiv:2308.08155, 2023.\\n\\nBenfeng Xu, An Yang, Junyang Lin, Quan Wang, Chang Zhou, Yongdong Zhang, and Zhendong Mao. Expertprompting: Instructing large language models to be distinguished experts, 2023. URL https://arxiv.org/abs/2305.14688.\\n\\nRoman V. Yampolskiy. From seed ai to technological singularity via recursively self-improving\\n\\nsoftware, 2015. URL https://arxiv.org/abs/1502.06512.\\n\\n13\\n\\nPreprint.\\n\\nShunyu Yao, Jeffrey Zhao, Dian Yu, Nan Du, Izhak Shafran, Karthik Narasimhan, and Yuan Cao. React: Synergizing reasoning and acting in language models. arXiv preprint arXiv:2210.03629, 2022.'), Document(metadata={'source': 'data\\\\godel_agent.pdf'}, page_content='5\\n\\n{’role’:’assistant’, ’content’:’In the movie Austin Powers: The Spy Who Shagged Me, Dr. Evil\\\\’s diminutive clone is famously named Mini-Me.\\\\nAnswer: B’},\\n\\n6\\n\\n7\\n\\n\\\\\"\"\"Three more examples are omitted here to conserve space.\\\\\"\"\" {’role’:’user’, ’content’:’Question: Lorem Ipsum?\\\\nChoices: (A)\\n\\nLorem\\\\n(B) Ipsum\\\\n(C) Dolor\\\\n(D) Sit Amet’},\\n\\n8\\n\\n{’role’:’assistant’, ’content’:’Answer: A’}\\n\\n9\\n\\n]\\n\\n10\\n\\n11\\n\\n12\\n\\n# Integrate the few-shot examples into the conversation messages = few_shot_examples + [{’role’: ’user’, ’content’: f’# Your\\n\\nTask:\\\\n{task}’}]\\n\\n13\\n\\n14\\n\\n15\\n\\n# Using self-consistency by generating multiple responses response = agent.action_call_json_format_llm(\\n\\n16\\n\\n17\\n\\n18\\n\\n19\\n\\n20\\n\\n21\\n\\nmodel=’gpt-3.5-turbo’, messages=messages, temperature=0.8, num_of_response=5, role=’knowledge and reasoning expert’, return_dict_keys=[’reasoning’, ’answer’], requirements=(\\n\\n22\\n\\n23\\n\\n24\\n\\n’1. Please explain step by step.\\\\n’ ’2. The answer MUST be either A or B or C or D.\\\\n’\\n\\n25\\n\\n).strip(),\\n\\n26\\n\\n)\\n\\n27\\n\\n28\\n\\n29\\n\\n30\\n\\n# Select the most consistent response answer_frequency = {} for resp in response:\\n\\n31\\n\\n32\\n\\n33\\n\\nanswer = resp.get(’answer’, ’’) if answer in [’A’, ’B’, ’C’, ’D’]: if answer in answer_frequency:\\n\\n34\\n\\nanswer_frequency[answer] += 1\\n\\n35\\n\\nelse:\\n\\n36\\n\\nanswer_frequency[answer] = 1\\n\\n37\\n\\n38\\n\\nmost_consistent_answer = max(answer_frequency, key=answer_frequency.\\n\\nget)\\n\\n39\\n\\nconsistent_response = next(resp for resp in response if resp.get(’\\n\\nanswer’) == most_consistent_answer)\\n\\n40\\n\\nconsistent_response[’answer’] = most_consistent_answer\\n\\n41\\n\\n42\\n\\nreturn consistent_response\\n\\n19\\n\\nPreprint.\\n\\nCode 4: Code of the best policy found by G¨odel Agent for GPQA.\\n\\n1 def solver(agent, task: str): 2\\n\\n# Step 1: Initial Prompt messages = [{\"role\": \"user\", \"content\": f\"# Your Task:\\\\n{task}\"}]\\n\\n3\\n\\n4\\n\\n5\\n\\n6\\n\\n# Main LLM Call response = agent.action_call_json_format_llm(\\n\\n7\\n\\n8\\n\\n9\\n\\n10\\n\\n11\\n\\n12'), Document(metadata={'source': 'data\\\\godel_agent.pdf'}, page_content='Dan Hendrycks, Collin Burns, Steven Basart, Andy Zou, Mantas Mazeika, Dawn Song, and Ja- cob Steinhardt. Measuring massive multitask language understanding, 2021. URL https: //arxiv.org/abs/2009.03300.\\n\\nSirui Hong, Xiawu Zheng, Jonathan Chen, Yuheng Cheng, Jinlin Wang, Ceyao Zhang, Zili Wang, Steven Ka Shing Yau, Zijuan Lin, Liyang Zhou, et al. Metagpt: Meta programming for multi- agent collaborative framework. arXiv preprint arXiv:2308.00352, 2023.\\n\\nChenxu Hu, Jie Fu, Chenzhuang Du, Simian Luo, Junbo Zhao, and Hang Zhao. Chatdb: Augment-\\n\\ning llms with databases as their symbolic memory. arXiv preprint arXiv:2306.03901, 2023.\\n\\nShengran Hu, Cong Lu, and Jeff Clune. Automated design of agentic systems. arXiv preprint\\n\\narXiv:2408.08435, 2024.\\n\\n11\\n\\nPreprint.\\n\\nOmar Khattab, Arnav Singhvi, Paridhi Maheshwari, Zhiyuan Zhang, Keshav Santhanam, Sri Vardhamanan, Saiful Haq, Ashutosh Sharma, Thomas T Joshi, Hanna Moazam, et al. Dspy: arXiv preprint Compiling declarative language model calls into self-improving pipelines. arXiv:2310.03714, 2023.\\n\\nPatrick Lewis, Ethan Perez, Aleksandra Piktus, Fabio Petroni, Vladimir Karpukhin, Naman Goyal, Heinrich K¨uttler, Mike Lewis, Wen-tau Yih, Tim Rockt¨aschel, et al. Retrieval-augmented genera- tion for knowledge-intensive nlp tasks. Advances in Neural Information Processing Systems, 33: 9459–9474, 2020.\\n\\nLei Liu, Xiaoyan Yang, Yue Shen, Binbin Hu, Zhiqiang Zhang, Jinjie Gu, and Guannan Zhang. arXiv\\n\\nThink-in-memory: Recalling and post-thinking enable llms with long-term memory. preprint arXiv:2311.08719, 2023.\\n\\nChris Lu, Cong Lu, Robert Tjarko Lange, Jakob Foerster, Jeff Clune, and David Ha. The ai scientist: Towards fully automated open-ended scientific discovery, 2024. URL https://arxiv.org/ abs/2408.06292.')]}\n"
          ]
        }
      ],
      "source": [
        "print(response)"
      ]
    },
    {
      "cell_type": "code",
      "execution_count": 17,
      "metadata": {
        "colab": {
          "base_uri": "https://localhost:8080/"
        },
        "id": "k8aJIyPiFKak",
        "outputId": "e9407529-49eb-4739-fc48-b2d752847fbe"
      },
      "outputs": [
        {
          "name": "stdout",
          "output_type": "stream",
          "text": [
            "I don't know.\n"
          ]
        }
      ],
      "source": [
        "print(response[\"result\"])"
      ]
    },
    {
      "cell_type": "code",
      "execution_count": 19,
      "metadata": {
        "colab": {
          "base_uri": "https://localhost:8080/"
        },
        "id": "Q6BjNsPqFjnO",
        "outputId": "58c50e5b-406b-40cf-8e23-47281ea35eed"
      },
      "outputs": [
        {
          "name": "stdout",
          "output_type": "stream",
          "text": [
            "The document discusses the G¨odel Agent, which is a self-referential agent that can recursively improve its own performance. Here are some key points about agents mentioned in the document:\n",
            "\n",
            "1. **Definition of an Agent**: The document does not explicitly define what an agent is, but it implies that an agent is a system that can interact with its environment and improve its performance over time.\n",
            "2. **Self-Improvement**: The G¨odel Agent is designed to recursively improve its own performance by modifying its own algorithm and policy.\n",
            "3. **Autonomy**: The G¨odel Agent is an autonomous system that can generate its own code and modify its own behavior without human intervention.\n",
            "4. **Self-Awareness**: The document suggests that the G¨odel Agent may be able to become aware of its own existence and improve its performance accordingly.\n",
            "5. **Characteristics of Agents**: The document mentions that the G¨odel Agent's self-improvement process can be used to study the characteristics of agents or LLMs, such as their ability to become aware of their own existence.\n",
            "6. **Safety Considerations**: The document notes that as agents become more powerful, they will require human oversight and regulation to prevent them from becoming uncontrollable.\n",
            "7. **Types of Agents**: The document mentions several types of agents, including:\n",
            "\t* Hand-Designed Agent Systems\n",
            "\t* Chain-of-Thought (CoT)\n",
            "\t* Self-Refine\n",
            "\t* LLM Debate\n",
            "\t* Step-back-Abs\n",
            "\t* Quality-Diversity\n",
            "\t* Role Assignment\n",
            "\t* Meta Agent Search\n",
            "\t* G¨odel Agent\n",
            "8. **Agent Capabilities**: The document mentions that the G¨odel Agent can:\n",
            "\t* Generate its own code\n",
            "\t* Modify its own behavior\n",
            "\t* Interact with its environment\n",
            "\t* Improve its performance over time\n",
            "\t* Request assistance from more powerful models\n",
            "9. **Agent Limitations**: The document notes that the G¨odel Agent is not yet sufficiently stable and may be prone to error accumulation, which hinders its ability to continue self-optimization.\n",
            "\n",
            "Overall, the document provides a comprehensive overview of the G¨odel Agent and its capabilities, as well as the potential implications of creating self-referential agents that can recursively improve their own performance.\n"
          ]
        }
      ],
      "source": [
        "query = \"What does the document say about agents\"\n",
        "response = qa_chain.invoke({\"query\":query})\n",
        "print(response[\"result\"])"
      ]
    },
    {
      "cell_type": "code",
      "execution_count": 52,
      "metadata": {
        "id": "WT6bD5HaGLIG"
      },
      "outputs": [],
      "source": []
    }
  ],
  "metadata": {
    "accelerator": "GPU",
    "colab": {
      "gpuType": "T4",
      "provenance": []
    },
    "kernelspec": {
      "display_name": "RAG",
      "language": "python",
      "name": "python3"
    },
    "language_info": {
      "codemirror_mode": {
        "name": "ipython",
        "version": 3
      },
      "file_extension": ".py",
      "mimetype": "text/x-python",
      "name": "python",
      "nbconvert_exporter": "python",
      "pygments_lexer": "ipython3",
      "version": "3.11.9"
    }
  },
  "nbformat": 4,
  "nbformat_minor": 0
}
